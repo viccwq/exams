{
 "cells": [
  {
   "cell_type": "code",
   "execution_count": null,
   "metadata": {
    "collapsed": true
   },
   "outputs": [],
   "source": [
    "import tensorflow as tf\n",
    "g1 = tf.Graph()\n",
    "with g1.as_default():\n",
    "    v = tf.get_variable(\"v\", initializer=tf.zeros_initializer(shape=[1]))\n",
    "    \n",
    "g2 = tf.Graph()\n",
    "with g2.as_default():\n",
    "    v = tf.get_variable(\"v\", initializer=tf.ones_initializer(shape=[1]))\n",
    "\n",
    "with tf.Session(graph=g1) as sess:\n",
    "    tf.initialize_all_variables().run()\n",
    "    with tf.variable_scope(\"\", reuse=True):\n",
    "        print(sess.run(tf.get_variable(\"v\")))\n",
    "        \n",
    "with tf.Session(graph=g2) as sess:\n",
    "    tf.initialize_all_variables().run()\n",
    "    with tf.variable_scope(\"\", reuse=True):\n",
    "        print(sess.run(tf.get_variable(\"v\")))"
   ]
  },
  {
   "cell_type": "code",
   "execution_count": null,
   "metadata": {
    "collapsed": true
   },
   "outputs": [],
   "source": [
    "import tensorflow as tf\n",
    "a = tf.constant([1.0, 2.0], name = \"a\")\n",
    "b = tf.constant([2.0, 3.0], name = \"b\")\n",
    "result = tf.add(a, b, name=\"add\")\n",
    "print (result)"
   ]
  },
  {
   "cell_type": "code",
   "execution_count": null,
   "metadata": {},
   "outputs": [],
   "source": [
    "##3.4.3 Tensor实现神经网络##\n",
    "\n",
    "import tensorflow as tf\n",
    "\n",
    "#通过seed参数设定随机种子\n",
    "w1 = tf.Variable(tf.random_normal([2,3],stddev = 1, seed=1 ))\n",
    "w2 = tf.Variable(tf.random_normal([3,1],stddev = 1, seed=1 ))\n",
    "\n",
    "#输入特征\n",
    "x = tf.constant([[0.7, 0.9]])\n",
    "\n",
    "#前向传播算法获得神经网络的输出\n",
    "a = tf.matmul(x, w1)\n",
    "y = tf.matmul(a, w2)\n",
    "\n",
    "sess = tf.Session()\n",
    "#w1和w2进行初始化\n",
    "sess.run(w1.initializer)\n",
    "sess.run(w2.initializer)\n",
    "#输出结果\n",
    "print(sess.run(y))\n",
    "sess.close()"
   ]
  },
  {
   "cell_type": "code",
   "execution_count": null,
   "metadata": {},
   "outputs": [],
   "source": [
    "##3.4.4 Tensor实现神经网络##\n",
    "\n",
    "import tensorflow as tf\n",
    "\n",
    "#通过seed参数设定随机种子\n",
    "w1 = tf.Variable(tf.random_normal([2,3],stddev = 1, seed=1 ))\n",
    "w2 = tf.Variable(tf.random_normal([3,1],stddev = 1, seed=1 ))\n",
    "\n",
    "#定义placeholder作为存放输入数据的地方。维度不一定要定义\n",
    "x = tf.placeholder(tf.float32, shape=(1,2), name=\"input\")\n",
    "#前向传播算法获得神经网络的输出\n",
    "a = tf.matmul(x, w1)\n",
    "y = tf.matmul(a, w2)\n",
    "\n",
    "sess = tf.Session()\n",
    "init_op=tf.initialize_all_variables()\n",
    "sess.run(init_op)\n",
    "\n",
    "print(sess.run(y, feed_dict={ x:[[0.7, 0.9]]}))"
   ]
  },
  {
   "cell_type": "code",
   "execution_count": 16,
   "metadata": {},
   "outputs": [
    {
     "ename": "NameError",
     "evalue": "name 'rf' is not defined",
     "output_type": "error",
     "traceback": [
      "\u001b[1;31m---------------------------------------------------------------------------\u001b[0m",
      "\u001b[1;31mNameError\u001b[0m                                 Traceback (most recent call last)",
      "\u001b[1;32m<ipython-input-16-3de52c016c77>\u001b[0m in \u001b[0;36m<module>\u001b[1;34m()\u001b[0m\n\u001b[0;32m     22\u001b[0m \u001b[1;33m\u001b[0m\u001b[0m\n\u001b[0;32m     23\u001b[0m \u001b[1;31m#定义损失函数和方向传播的算法\u001b[0m\u001b[1;33m\u001b[0m\u001b[1;33m\u001b[0m\u001b[0m\n\u001b[1;32m---> 24\u001b[1;33m \u001b[0mcross_entropy\u001b[0m \u001b[1;33m=\u001b[0m \u001b[1;33m-\u001b[0m\u001b[0mrf\u001b[0m\u001b[1;33m.\u001b[0m\u001b[0mreduce_mean\u001b[0m\u001b[1;33m(\u001b[0m\u001b[0my_\u001b[0m \u001b[1;33m*\u001b[0m \u001b[0mtf\u001b[0m\u001b[1;33m.\u001b[0m\u001b[0mlog\u001b[0m\u001b[1;33m(\u001b[0m\u001b[0mtf\u001b[0m\u001b[1;33m.\u001b[0m\u001b[0mclip_by_value\u001b[0m\u001b[1;33m(\u001b[0m\u001b[0my\u001b[0m\u001b[1;33m,\u001b[0m \u001b[1;36m1e-10\u001b[0m\u001b[1;33m,\u001b[0m \u001b[1;36m1.0\u001b[0m\u001b[1;33m)\u001b[0m\u001b[1;33m)\u001b[0m\u001b[1;33m)\u001b[0m\u001b[1;33m\u001b[0m\u001b[0m\n\u001b[0m\u001b[0;32m     25\u001b[0m \u001b[0mtrain_step\u001b[0m \u001b[1;33m=\u001b[0m \u001b[0mtf\u001b[0m\u001b[1;33m.\u001b[0m\u001b[0mtrain\u001b[0m\u001b[1;33m.\u001b[0m\u001b[0mAdamOptimizer\u001b[0m\u001b[1;33m(\u001b[0m\u001b[1;36m0.001\u001b[0m\u001b[1;33m)\u001b[0m\u001b[1;33m.\u001b[0m\u001b[0mminimize\u001b[0m\u001b[1;33m(\u001b[0m\u001b[0mcross_entropy\u001b[0m\u001b[1;33m)\u001b[0m\u001b[1;33m\u001b[0m\u001b[0m\n\u001b[0;32m     26\u001b[0m \u001b[1;33m\u001b[0m\u001b[0m\n",
      "\u001b[1;31mNameError\u001b[0m: name 'rf' is not defined"
     ]
    }
   ],
   "source": [
    "##3.4.5 Tensor实现神经网络##\n",
    "\n",
    "import tensorflow as tf\n",
    "from numpy.random import RandomState\n",
    "\n",
    "# 定义训练数据batch大小\n",
    "batch_size = 8\n",
    "\n",
    "# 通过seed参数设定随机种子\n",
    "w1 = tf.Variable(tf.random_normal([2,3],stddev = 1, seed=1 ))\n",
    "w2 = tf.Variable(tf.random_normal([3,1],stddev = 1, seed=1 ))\n",
    "\n",
    "# 在shape的一个维度上使用None可以方便使用不大的batch大小。在训练时需要把数据分\n",
    "# 成比较小的batch，但是在测试时，可以一次性使用全部的数据。当数据集比较小时这样比较\n",
    "# 方便测试，但数据集比较大时，将大量数据放入一个batch可能会导致内存溢出。\n",
    "x = tf.placeholder(tf.float32, shape=(None,2), name=\"x-input\")\n",
    "y_= tf.placeholder(tf.float32, shape=(None,1), name=\"y-input\")\n",
    "\n",
    "#前向传播算法获得神经网络的输出\n",
    "a = tf.matmul(x, w1)\n",
    "y = tf.matmul(a, w2)\n",
    "\n",
    "#定义损失函数和方向传播的算法\n",
    "cross_entropy = -rf.reduce_mean(y_ * tf.log(tf.clip_by_value(y, 1e-10, 1.0)))\n",
    "train_step = tf.train.AdamOptimizer(0.001).minimize(cross_entropy)\n",
    "\n",
    "# 通过随机数生成一个模拟数据集\n",
    "rdm = RandomState(1)\n",
    "dataset_size = 128\n",
    "X = rdm.rand(dataset_size, 2)\n",
    "\n",
    "#定义规则来给出样本的标签. 在这里所有xl+x2<1的样例都被认为是正样本(比如零件合格)，\n",
    "#而其他为负样本(比如零件不合格)。和TensorF工。w游乐场中的表示法不大一样的地方是，\n",
    "#在这里使用0来表示负样本，1来表示正样本。大部分解决分类问题的神经网络都会采用\n",
    "#0和1的表示方法。\n",
    "Y = [[int(x1 + x2 < 1)]for(x1, x2) in X ]\n",
    "\n",
    "#创建一个会话来运行TensorFlow程序。\n",
    "with tf.Session() as sess:\n",
    "    init_op = tf.initialize_local_variables()\n",
    "    sess.run(init_op)\n",
    "    print (sess.run(w1))\n",
    "    print (sess.run(w2))\n",
    "    \n",
    "STEPS = 5000\n",
    "for i in range(STEPS):\n",
    "    #每次选取batch_size个样本进行训练\n",
    "    start = (i * batch_size) % dataset_size\n",
    "    end = min(start + batch_size, dataset_size)\n",
    "    \n",
    "    #通过选取的样本训练神经网络并更新参数。\n",
    "    sess.run(train_step, feed_dict={x:X[start:end], y_:Y[start:end]})\n",
    "    \n",
    "    if i % 1000 == 0:\n",
    "        total_cross_entropy = sess.run(cross_entropy, feed_dixt={x:X, y_:Y})\n",
    "        print(\"After %d training step, cross entropy on all data is %g\" %i, total_cross_entropy)\n",
    "        \n",
    "print (sess.run(w1))\n",
    "print (sess.run(w2))"
   ]
  },
  {
   "cell_type": "code",
   "execution_count": null,
   "metadata": {
    "collapsed": true
   },
   "outputs": [],
   "source": []
  }
 ],
 "metadata": {
  "kernelspec": {
   "display_name": "Python 3",
   "language": "python",
   "name": "python3"
  },
  "language_info": {
   "codemirror_mode": {
    "name": "ipython",
    "version": 3
   },
   "file_extension": ".py",
   "mimetype": "text/x-python",
   "name": "python",
   "nbconvert_exporter": "python",
   "pygments_lexer": "ipython3",
   "version": "3.5.2"
  }
 },
 "nbformat": 4,
 "nbformat_minor": 2
}
